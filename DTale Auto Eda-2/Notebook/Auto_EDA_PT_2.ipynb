{
  "nbformat": 4,
  "nbformat_minor": 0,
  "metadata": {
    "colab": {
      "provenance": []
    },
    "kernelspec": {
      "name": "python3",
      "display_name": "Python 3"
    },
    "language_info": {
      "name": "python"
    }
  },
  "cells": [
    {
      "cell_type": "markdown",
      "source": [
        "#Automating EDA Using Dtale"
      ],
      "metadata": {
        "id": "IqVhNNd3s8sS"
      }
    },
    {
      "cell_type": "code",
      "execution_count": null,
      "metadata": {
        "id": "89XtbaTtr1T8"
      },
      "outputs": [],
      "source": [
        "# pip install dtale\n"
      ]
    },
    {
      "cell_type": "markdown",
      "source": [
        "#Importng CSV file and pandas library"
      ],
      "metadata": {
        "id": "W8VwVoMwtHu3"
      }
    },
    {
      "cell_type": "code",
      "source": [
        "import pandas as pd\n",
        "df=pd.read_csv('CardioGoodFitness.csv')"
      ],
      "metadata": {
        "id": "iHOPOjEar9Rs"
      },
      "execution_count": null,
      "outputs": []
    },
    {
      "cell_type": "markdown",
      "source": [
        "###Import ing dtale and passing the dataframe as df"
      ],
      "metadata": {
        "id": "vV_dmmEWtNQH"
      }
    },
    {
      "cell_type": "code",
      "source": [
        "import dtale\n",
        "\n",
        "import dtale.app as dtale_app\n",
        "dtale_app.USE_COLAB = True\n",
        "dtale.show(df)"
      ],
      "metadata": {
        "colab": {
          "base_uri": "https://localhost:8080/",
          "height": 34
        },
        "id": "FWc-V0k1r3k8",
        "outputId": "6ba1df78-e104-4b15-9a8c-a03521fcccad"
      },
      "execution_count": null,
      "outputs": [
        {
          "output_type": "execute_result",
          "data": {
            "text/plain": [
              "https://nshrl2sl1tt-496ff2e9c6d22116-40000-colab.googleusercontent.com/dtale/main/1"
            ]
          },
          "metadata": {},
          "execution_count": 2
        }
      ]
    },
    {
      "cell_type": "code",
      "source": [],
      "metadata": {
        "id": "-wuZlqP8sPWz"
      },
      "execution_count": null,
      "outputs": []
    }
  ]
}